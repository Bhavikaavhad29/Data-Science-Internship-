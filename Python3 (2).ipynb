{
 "cells": [
  {
   "cell_type": "markdown",
   "id": "86dc745c-f176-4464-bd93-3241053d1b3c",
   "metadata": {},
   "source": [
    "Name:Bhavika Sachin Avhad Branch:IT Information Technology\n"
   ]
  },
  {
   "cell_type": "code",
   "execution_count": 5,
   "id": "862ea416-0e8f-43c5-908e-78a6ededfd7e",
   "metadata": {},
   "outputs": [],
   "source": [
    "import numpy as np\n",
    "\n",
    "\n"
   ]
  },
  {
   "cell_type": "code",
   "execution_count": 6,
   "id": "77bd07b3-ad77-4e48-a9d0-e64438f76b9e",
   "metadata": {},
   "outputs": [
    {
     "name": "stdout",
     "output_type": "stream",
     "text": [
      "[1 2 3 4 5]\n"
     ]
    }
   ],
   "source": [
    "arr=np.array([1,2,3,4,5])\n",
    "print(arr)"
   ]
  },
  {
   "cell_type": "code",
   "execution_count": 7,
   "id": "f70b6caf-4d2d-46fb-9c95-59fefd2f50b0",
   "metadata": {},
   "outputs": [
    {
     "data": {
      "text/plain": [
       "array([[0., 0., 0., 0.],\n",
       "       [0., 0., 0., 0.],\n",
       "       [0., 0., 0., 0.]])"
      ]
     },
     "execution_count": 7,
     "metadata": {},
     "output_type": "execute_result"
    }
   ],
   "source": [
    "np.zeros((3,4))"
   ]
  },
  {
   "cell_type": "code",
   "execution_count": 8,
   "id": "eccfdb70-9e85-4c35-8ab3-1d68698aea52",
   "metadata": {},
   "outputs": [
    {
     "data": {
      "text/plain": [
       "array([[1., 1., 1., 1., 1.],\n",
       "       [1., 1., 1., 1., 1.]])"
      ]
     },
     "execution_count": 8,
     "metadata": {},
     "output_type": "execute_result"
    }
   ],
   "source": [
    "np.ones((2,5))"
   ]
  },
  {
   "cell_type": "code",
   "execution_count": 9,
   "id": "2a97bdd5-0c99-4b4a-8ccb-2b23eebeb220",
   "metadata": {},
   "outputs": [
    {
     "data": {
      "text/plain": [
       "array([[8, 8, 8, 8, 8],\n",
       "       [8, 8, 8, 8, 8],\n",
       "       [8, 8, 8, 8, 8],\n",
       "       [8, 8, 8, 8, 8]])"
      ]
     },
     "execution_count": 9,
     "metadata": {},
     "output_type": "execute_result"
    }
   ],
   "source": [
    "np.full((4,5),8)"
   ]
  },
  {
   "cell_type": "code",
   "execution_count": 10,
   "id": "c73a837f-5bbb-4cf9-afaf-35a6cfd61aa9",
   "metadata": {},
   "outputs": [
    {
     "data": {
      "text/plain": [
       "array([[1., 0., 0., 0.],\n",
       "       [0., 1., 0., 0.],\n",
       "       [0., 0., 1., 0.],\n",
       "       [0., 0., 0., 1.]])"
      ]
     },
     "execution_count": 10,
     "metadata": {},
     "output_type": "execute_result"
    }
   ],
   "source": [
    "np.eye(4)"
   ]
  },
  {
   "cell_type": "code",
   "execution_count": 11,
   "id": "e6b43b97-56d9-4ec7-aaef-576e4499f693",
   "metadata": {},
   "outputs": [
    {
     "data": {
      "text/plain": [
       "array([ 28,  33,  38,  43,  48,  53,  58,  63,  68,  73,  78,  83,  88,\n",
       "        93,  98, 103, 108, 113, 118, 123, 128, 133, 138, 143, 148, 153,\n",
       "       158, 163, 168, 173, 178, 183, 188, 193, 198, 203, 208, 213, 218,\n",
       "       223, 228, 233, 238, 243, 248, 253, 258, 263, 268, 273, 278, 283,\n",
       "       288, 293, 298, 303, 308, 313, 318, 323, 328, 333, 338, 343, 348,\n",
       "       353, 358, 363, 368, 373, 378, 383, 388, 393, 398])"
      ]
     },
     "execution_count": 11,
     "metadata": {},
     "output_type": "execute_result"
    }
   ],
   "source": [
    "np.arange(28,400,5)"
   ]
  },
  {
   "cell_type": "code",
   "execution_count": 14,
   "id": "71132ca9-c53b-4b8b-9d35-ef4ff5adb817",
   "metadata": {},
   "outputs": [
    {
     "data": {
      "text/plain": [
       "array([1, 2, 3, 4, 5])"
      ]
     },
     "execution_count": 14,
     "metadata": {},
     "output_type": "execute_result"
    }
   ],
   "source": [
    "np.block(arr)\n"
   ]
  },
  {
   "cell_type": "code",
   "execution_count": 18,
   "id": "488eb8c2-10ef-4a0f-8ea7-1f94734536bd",
   "metadata": {},
   "outputs": [
    {
     "data": {
      "text/plain": [
       "np.int64(18)"
      ]
     },
     "execution_count": 18,
     "metadata": {},
     "output_type": "execute_result"
    }
   ],
   "source": [
    "np.add(6,12)"
   ]
  },
  {
   "cell_type": "code",
   "execution_count": 32,
   "id": "d6d94948-ac85-4f58-8b47-996385d68f9d",
   "metadata": {},
   "outputs": [],
   "source": [
    "\n",
    "arr=np.array([[2,3,4],[5,6,7],[8,9,0]])"
   ]
  },
  {
   "cell_type": "code",
   "execution_count": 37,
   "id": "4baaf4df-32c6-40eb-bde6-fbecac5cf1d3",
   "metadata": {},
   "outputs": [
    {
     "data": {
      "text/plain": [
       "2"
      ]
     },
     "execution_count": 37,
     "metadata": {},
     "output_type": "execute_result"
    }
   ],
   "source": [
    "arr.ndim"
   ]
  },
  {
   "cell_type": "code",
   "execution_count": 35,
   "id": "f7ba35da-d63d-4117-bfe9-5c7c4957d141",
   "metadata": {},
   "outputs": [
    {
     "data": {
      "text/plain": [
       "(3, 3)"
      ]
     },
     "execution_count": 35,
     "metadata": {},
     "output_type": "execute_result"
    }
   ],
   "source": [
    "arr.shape"
   ]
  },
  {
   "cell_type": "code",
   "execution_count": 38,
   "id": "71df25e6-525e-439c-8331-030b3d8d5330",
   "metadata": {},
   "outputs": [
    {
     "data": {
      "text/plain": [
       "dtype('int64')"
      ]
     },
     "execution_count": 38,
     "metadata": {},
     "output_type": "execute_result"
    }
   ],
   "source": [
    "arr.dtype"
   ]
  },
  {
   "cell_type": "code",
   "execution_count": null,
   "id": "03b6860f-e1cf-49b9-8814-6c157f20ba2e",
   "metadata": {},
   "outputs": [],
   "source": []
  }
 ],
 "metadata": {
  "kernelspec": {
   "display_name": "Python [conda env:base] *",
   "language": "python",
   "name": "conda-base-py"
  },
  "language_info": {
   "codemirror_mode": {
    "name": "ipython",
    "version": 3
   },
   "file_extension": ".py",
   "mimetype": "text/x-python",
   "name": "python",
   "nbconvert_exporter": "python",
   "pygments_lexer": "ipython3",
   "version": "3.13.5"
  }
 },
 "nbformat": 4,
 "nbformat_minor": 5
}

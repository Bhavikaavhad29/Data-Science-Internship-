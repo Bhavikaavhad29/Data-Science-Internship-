{
 "cells": [
  {
   "cell_type": "code",
   "execution_count": 6,
   "id": "d154a23f-32cf-4269-b155-646b000f80c0",
   "metadata": {},
   "outputs": [
    {
     "name": "stdout",
     "output_type": "stream",
     "text": [
      "bhavika\n",
      "BHAVIKA\n",
      "Bhavika\n",
      "Bhavika\n",
      "bHAVIKA\n",
      "True\n",
      "True\n",
      "True\n",
      "Bh@vik@\n",
      "7\n"
     ]
    }
   ],
   "source": [
    "str = \"Bhavika\"\n",
    "\n",
    "print(str.lower())        \n",
    "print(str.upper())        \n",
    "print(str.capitalize())   \n",
    "print(str.title())        \n",
    "print(str.swapcase())     \n",
    "print(str.startswith(\"B\"))\n",
    "print(str.endswith(\"a\"))  \n",
    "print(str.isalpha())      \n",
    "print(str.replace(\"a\", \"@\")) \n",
    "print(len(str))           "
   ]
  },
  {
   "cell_type": "code",
   "execution_count": 7,
   "id": "08f73c95-9616-4f26-85dc-e1cabe496ed7",
   "metadata": {},
   "outputs": [
    {
     "name": "stdout",
     "output_type": "stream",
     "text": [
      "13\n",
      "7\n",
      "30\n",
      "3.3333333333333335\n",
      "3\n",
      "1\n",
      "1000\n"
     ]
    }
   ],
   "source": [
    "a = 10\n",
    "b = 3\n",
    "\n",
    "print(a + b)   \n",
    "print(a - b)   \n",
    "print(a * b)   \n",
    "print(a / b)   \n",
    "print(a // b)  \n",
    "print(a % b)   \n",
    "print(a ** b)  \n"
   ]
  },
  {
   "cell_type": "code",
   "execution_count": 8,
   "id": "adca646b-3da0-4db3-998d-613ebb87b93c",
   "metadata": {},
   "outputs": [
    {
     "name": "stdout",
     "output_type": "stream",
     "text": [
      "2\n",
      "11\n",
      "9\n",
      "-11\n",
      "20\n",
      "5\n"
     ]
    }
   ],
   "source": [
    "a = 10  \n",
    "b = 3   \n",
    "\n",
    "print(a & b)   \n",
    "print(a | b)   \n",
    "print(a ^ b)   \n",
    "print(~a)      \n",
    "print(a << 1)  \n",
    "print(a >> 1) "
   ]
  },
  {
   "cell_type": "code",
   "execution_count": null,
   "id": "c5a4b2fd-ff66-43e4-a898-a925fa877ffa",
   "metadata": {},
   "outputs": [
    {
     "name": "stdout",
     "output_type": "stream",
     "text": [
      "Enter a number:  2\n"
     ]
    },
    {
     "name": "stdout",
     "output_type": "stream",
     "text": [
      "Number is Even\n"
     ]
    }
   ],
   "source": [
    "num = int(input(\"Enter a number: \"))\n",
    "if num==0:\n",
    "    print(\"Number is Zeroo\")\n",
    "elif num%2==0:\n",
    "    print(\"Number is Even\")\n",
    "else:\n",
    "    print(\"Number is Odd\")\n"
   ]
  },
  {
   "cell_type": "code",
   "execution_count": 6,
   "id": "d6d8ea2e-fdbe-46bb-8314-f281893aba67",
   "metadata": {},
   "outputs": [],
   "source": [
    "with open(\"Bhavi.txt\",\"w\") as file:\n",
    "    file.write(\"Coding is like solving a puzzle – one bit at a time.\\n\")\n"
   ]
  },
  {
   "cell_type": "code",
   "execution_count": 7,
   "id": "12336f97-774f-42b3-8695-748c42683210",
   "metadata": {},
   "outputs": [],
   "source": [
    "with open(\"Bhavi.txt\",\"a\") as file:\n",
    "    file.write(\"I love coding..its like dream come true\\n\")\n"
   ]
  },
  {
   "cell_type": "code",
   "execution_count": 8,
   "id": "ef65179a-450e-4e8a-969d-3bc2eea97de9",
   "metadata": {},
   "outputs": [
    {
     "name": "stdout",
     "output_type": "stream",
     "text": [
      "Displying contents: \n",
      " Coding is like solving a puzzle – one bit at a time.\n",
      "I love coding..its like dream come true\n",
      "\n"
     ]
    }
   ],
   "source": [
    "with open(\"Bhavi.txt\",\"r\") as file:\n",
    "    read=file.read()\n",
    "    print(\"Displying contents: \\n\",read)\n"
   ]
  },
  {
   "cell_type": "code",
   "execution_count": null,
   "id": "184187fe-e931-437f-9eba-e855c0ad9537",
   "metadata": {},
   "outputs": [],
   "source": []
  }
 ],
 "metadata": {
  "kernelspec": {
   "display_name": "Python 3 (ipykernel)",
   "language": "python",
   "name": "python3"
  },
  "language_info": {
   "codemirror_mode": {
    "name": "ipython",
    "version": 3
   },
   "file_extension": ".py",
   "mimetype": "text/x-python",
   "name": "python",
   "nbconvert_exporter": "python",
   "pygments_lexer": "ipython3",
   "version": "3.13.5"
  }
 },
 "nbformat": 4,
 "nbformat_minor": 5
}

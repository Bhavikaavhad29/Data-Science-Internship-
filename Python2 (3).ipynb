{
 "cells": [
  {
   "cell_type": "code",
   "execution_count": 2,
   "id": "c5ec2f03-7afb-4f88-ae2a-3c114356dc0d",
   "metadata": {},
   "outputs": [
    {
     "name": "stdout",
     "output_type": "stream",
     "text": [
      "Student List: ['Amit', 'Chetan', 'Deepa', 'Esha']\n"
     ]
    }
   ],
   "source": [
    "student_list =['Amit','Bina','Chetan']\n",
    "student_list.append('Deepa')\n",
    "student_list.remove('Bina')\n",
    "student_list.insert(1,'Esha')\n",
    "student_list.sort()\n",
    "print(\"Student List:\",student_list)\n"
   ]
  },
  {
   "cell_type": "code",
   "execution_count": 3,
   "id": "dd8f675c-dcf7-41c1-8acf-243d1a8cbcec",
   "metadata": {},
   "outputs": [
    {
     "name": "stdout",
     "output_type": "stream",
     "text": [
      "Marks Count 80: 2\n",
      "Index of 90: 2\n"
     ]
    }
   ],
   "source": [
    "marks_tuple =(70, 80, 90, 80)\n",
    "print(\"Marks Count 80:\", marks_tuple.count(80))\n",
    "print(\"Index of 90:\", marks_tuple.index(90))\n"
   ]
  },
  {
   "cell_type": "code",
   "execution_count": 4,
   "id": "a81ad6af-2214-4cb3-8666-2250493713eb",
   "metadata": {},
   "outputs": [
    {
     "name": "stdout",
     "output_type": "stream",
     "text": [
      "Color Set: {'purple', 'pink', 'blue', 'red', 'yellow'}\n"
     ]
    }
   ],
   "source": [
    "color_set = {'red', 'green', 'blue'}\n",
    "color_set.add('yellow')\n",
    "color_set.discard('green')\n",
    "color_set.update({'pink', 'purple'})\n",
    "print(\"Color Set:\", color_set)"
   ]
  },
  {
   "cell_type": "code",
   "execution_count": null,
   "id": "b3daddb4-0d2d-4204-9ae1-4157d7ebd99c",
   "metadata": {},
   "outputs": [],
   "source": []
  },
  {
   "cell_type": "code",
   "execution_count": null,
   "id": "e428b145-d89e-4e33-be10-beca8fc949f9",
   "metadata": {},
   "outputs": [],
   "source": []
  }
 ],
 "metadata": {
  "kernelspec": {
   "display_name": "Python 3 (ipykernel)",
   "language": "python",
   "name": "python3"
  },
  "language_info": {
   "codemirror_mode": {
    "name": "ipython",
    "version": 3
   },
   "file_extension": ".py",
   "mimetype": "text/x-python",
   "name": "python",
   "nbconvert_exporter": "python",
   "pygments_lexer": "ipython3",
   "version": "3.13.5"
  }
 },
 "nbformat": 4,
 "nbformat_minor": 5
}
